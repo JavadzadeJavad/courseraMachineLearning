{
 "cells": [
  {
   "cell_type": "markdown",
   "metadata": {},
   "source": [
    "# ОТЧЕТ"
   ]
  },
  {
   "cell_type": "markdown",
   "metadata": {},
   "source": [
    "#### 1. Какие признаки имеют пропуски среди своих значений? Что могут означать пропуски в этих признаках (ответьте на этот вопрос для двух любых признаков)?"
   ]
  },
  {
   "cell_type": "markdown",
   "metadata": {},
   "source": [
    "Данные столбцы имеют пропуски:    \n",
    "first_blood_time:   0.20110048338990025      \n",
    "first_blood_team:   0.20110048338990025     \n",
    "first_blood_player1:   0.20110048338990025     \n",
    "first_blood_player2:   0.4524015221639412     \n",
    "radiant_bottle_time:   0.16138023243854777     \n",
    "radiant_courier_time:   0.007117144914121156     \n",
    "radiant_flying_courier_time:   0.2826185333744729     \n",
    "radiant_first_ward_time:   0.018883060783708733     \n",
    "dire_bottle_time:   0.1660290033940142     \n",
    "dire_courier_time:   0.00695258665021084     \n",
    "dire_flying_courier_time:   0.2684150982207138     \n",
    "dire_first_ward_time:   0.018780211868764784   \n",
    "\n",
    "1) в 28% случаев команда не покупает \"flying_courier\" в первые 5 минут игры     \n",
    "2) почти в 2% случаев, команда Radiant не ставит \"Ward\" в первые 5 минут игры\n",
    "\n",
    "#### 2. Как называется столбец, содержащий целевую переменную? ####\n",
    "Ответ: столбец 'radiant_win'содержит целевую переменную\n",
    "\n",
    "#### 3. Как долго проводилась кросс-валидация для градиентного бустинга с 30 деревьями?  Какое качество при этом получилось? ####\n",
    "\n",
    "1) Кросс-валидация для градиентного бустинга с 30 деревьями длится 31.34 секунды    \n",
    "2) Качество составило 0.69\n",
    "\n",
    "#### 4. Имеет ли смысл использовать больше 30 деревьев в градиентном бустинге? Что бы вы предложили делать, чтобы ускорить его обучение при увеличении количества деревьев? ####\n",
    "\n",
    "1) Да, имеет. Показатель метрики качества со 100 (0.71) и 150 (0.72) деревьями больше, чем с 30 (0.69).    \n",
    "2) Для ускорения можно уменьшить глубину деревьев "
   ]
  },
  {
   "cell_type": "markdown",
   "metadata": {},
   "source": [
    "# Подход 1: градиентный бустинг \"в лоб\"\n"
   ]
  },
  {
   "cell_type": "code",
   "execution_count": 17,
   "metadata": {},
   "outputs": [],
   "source": [
    "import pandas as pd\n",
    "from pprint import pprint \n",
    "import time\n",
    "import datetime\n",
    "from sklearn.cross_validation import KFold, cross_val_score\n",
    "from sklearn.ensemble import GradientBoostingClassifier\n",
    "\n"
   ]
  },
  {
   "cell_type": "markdown",
   "metadata": {},
   "source": [
    "### 1. Считайте таблицу с признаками из файла features.csv с помощью кода, приведенного выше. Удалите признаки, связанные с итогами матча (они помечены в описании данных как отсутствующие в тестовой выборке)."
   ]
  },
  {
   "cell_type": "code",
   "execution_count": 4,
   "metadata": {},
   "outputs": [],
   "source": [
    "featuresTrain = pd.read_csv('data/features.csv', index_col='match_id')\n",
    "featuresTrain = featuresTrain.drop([\n",
    "\t\t'duration', \n",
    "\t\t'tower_status_radiant', \n",
    "\t\t'tower_status_dire', \n",
    "\t\t'barracks_status_radiant', \n",
    "\t\t'barracks_status_dire'\n",
    "\t\t], \n",
    "\t\taxis=1)"
   ]
  },
  {
   "cell_type": "markdown",
   "metadata": {},
   "source": [
    "### 2. Проверьте выборку на наличие пропусков с помощью функции count(), которая для каждого столбца показывает число заполненных значений. Много ли пропусков в данных? Запишите названия признаков, имеющих пропуски, и попробуйте для любых двух из них дать обоснование, почему их значения могут быть пропущены."
   ]
  },
  {
   "cell_type": "code",
   "execution_count": 5,
   "metadata": {},
   "outputs": [],
   "source": [
    "def defineEmptyColumn(df):\n",
    "\t# count - пременная, в которой хранится кол-во пустых ячеек для каждого столбца\n",
    "\tcount = 0\n",
    "\t# rowNum - переменная, в которой хранится кол-во строк в DataFrame\n",
    "\trowNum = len(df.index)\n",
    "\t# Перебор всех столбцов\n",
    "\tfor colName in df:\n",
    "\t\tcount = df[colName].isnull().sum()\n",
    "\t\tif count > 0:\n",
    "\t\t\tprint(colName + \":   \" + repr(count/rowNum))"
   ]
  },
  {
   "cell_type": "code",
   "execution_count": 6,
   "metadata": {},
   "outputs": [
    {
     "name": "stdout",
     "output_type": "stream",
     "text": [
      "first_blood_time:   0.20110048338990025\n",
      "first_blood_team:   0.20110048338990025\n",
      "first_blood_player1:   0.20110048338990025\n",
      "first_blood_player2:   0.4524015221639412\n",
      "radiant_bottle_time:   0.16138023243854777\n",
      "radiant_courier_time:   0.007117144914121156\n",
      "radiant_flying_courier_time:   0.2826185333744729\n",
      "radiant_first_ward_time:   0.018883060783708733\n",
      "dire_bottle_time:   0.1660290033940142\n",
      "dire_courier_time:   0.00695258665021084\n",
      "dire_flying_courier_time:   0.2684150982207138\n",
      "dire_first_ward_time:   0.018780211868764784\n"
     ]
    }
   ],
   "source": [
    "defineEmptyColumn(featuresTrain)"
   ]
  },
  {
   "cell_type": "code",
   "execution_count": 8,
   "metadata": {},
   "outputs": [],
   "source": [
    "# 1) в 28% случаев команда не покупает \"flying_courier\" в первые 5 минут игры\n",
    "# 2) почти в 2% случаев, команда Radiant не ставит \"Ward\" в первые 5 минут игры"
   ]
  },
  {
   "cell_type": "code",
   "execution_count": null,
   "metadata": {},
   "outputs": [],
   "source": []
  },
  {
   "cell_type": "markdown",
   "metadata": {},
   "source": [
    "### 3. Замените пропуски на нули с помощью функции fillna()."
   ]
  },
  {
   "cell_type": "code",
   "execution_count": 9,
   "metadata": {},
   "outputs": [],
   "source": [
    "def cleanEmptyColumn(df):\n",
    "\tdf = df.fillna(0)\n",
    "\treturn df"
   ]
  },
  {
   "cell_type": "code",
   "execution_count": null,
   "metadata": {},
   "outputs": [],
   "source": []
  },
  {
   "cell_type": "markdown",
   "metadata": {},
   "source": [
    "### 4) Какой столбец содержит целевую переменную? Запишите его название."
   ]
  },
  {
   "cell_type": "markdown",
   "metadata": {},
   "source": [
    "Ответ: столбец 'radiant_win'содержит целевую переменную"
   ]
  },
  {
   "cell_type": "code",
   "execution_count": null,
   "metadata": {},
   "outputs": [],
   "source": []
  },
  {
   "cell_type": "markdown",
   "metadata": {},
   "source": [
    "### 5. Обучить градиентный бустинг "
   ]
  },
  {
   "cell_type": "code",
   "execution_count": null,
   "metadata": {},
   "outputs": [],
   "source": [
    "def gradientBoosting(trainData):\n",
    "\tXTrain = trainData.drop('radiant_win',1)\n",
    "\tyTrain = trainData['radiant_win'].to_frame()\n",
    "\n",
    "\tkf = KFold(yTrain.size, n_folds=5, shuffle=True, random_state=241)\n",
    "\tnumTrees = [10, 20, 30, 100, 150]\n",
    "\tfor num in numTrees:\n",
    "\t\tprint(\"Количество деревьев: \", num)\n",
    "\t\tmodel = GradientBoostingClassifier(n_estimators=num, random_state=241)\n",
    "\t\tstartTime = datetime.datetime.now()\n",
    "\t\tscores = cross_val_score(model, XTrain, yTrain.values.ravel(), cv=kf, scoring='roc_auc', n_jobs=-1)\n",
    "\t\tprint('Время обучения: ', datetime.datetime.now() - startTime)\n",
    "\t\tprint(scores)\n",
    "\t\tprint(\"_____\")"
   ]
  },
  {
   "cell_type": "code",
   "execution_count": 15,
   "metadata": {},
   "outputs": [
    {
     "name": "stdout",
     "output_type": "stream",
     "text": [
      "Количество деревьев:  10\n",
      "Время обучения:  0:00:11.825738\n",
      "[0.66943496 0.65627754 0.66390454 0.66281223 0.66950933]\n",
      "_____\n",
      "Количество деревьев:  20\n",
      "Время обучения:  0:00:24.167875\n",
      "[0.68939011 0.67567277 0.68201026 0.67977584 0.68741889]\n",
      "_____\n",
      "Количество деревьев:  30\n",
      "Время обучения:  0:00:31.338620\n",
      "[0.69641668 0.68365441 0.68731862 0.68728458 0.69280674]\n",
      "_____\n",
      "Количество деревьев:  100\n",
      "Время обучения:  0:01:46.529449\n",
      "[0.71211028 0.70275727 0.70340522 0.70450889 0.70884943]\n",
      "_____\n",
      "Количество деревьев:  150\n",
      "Время обучения:  0:02:33.775093\n",
      "[0.71546705 0.70731614 0.70793497 0.70887821 0.71252658]\n",
      "_____\n"
     ]
    }
   ],
   "source": [
    "# Замена пропусков на нули\n",
    "trainData = cleanEmptyColumn(featuresTrain)\n",
    "# Функция обучения градинтного бустинга\n",
    "gradientBoosting(trainData)"
   ]
  },
  {
   "cell_type": "code",
   "execution_count": null,
   "metadata": {},
   "outputs": [],
   "source": []
  }
 ],
 "metadata": {
  "kernelspec": {
   "display_name": "Python 3",
   "language": "python",
   "name": "python3"
  },
  "language_info": {
   "codemirror_mode": {
    "name": "ipython",
    "version": 3
   },
   "file_extension": ".py",
   "mimetype": "text/x-python",
   "name": "python",
   "nbconvert_exporter": "python",
   "pygments_lexer": "ipython3",
   "version": "3.6.3"
  }
 },
 "nbformat": 4,
 "nbformat_minor": 2
}
